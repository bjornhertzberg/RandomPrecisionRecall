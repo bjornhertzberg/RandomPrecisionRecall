{
 "cells": [
  {
   "cell_type": "markdown",
   "metadata": {},
   "source": [
    "# What is a \"reasonable\" level of Precision & Recall in off-line recommendations\n",
    "\n",
    "This notebook demonstrates through some simple calculations what a reasonable basline of precision and recall should be under two different settings.\n",
    "\n",
    "## Modelling Assumptions\n",
    "\n",
    "Precision and recall measures are defined in a way that assumes a controlled experiment. Given a set of products $\\mathcal{P}$ I recommend a subset of them $\\mathcal{R}=\\{r_1, r_2, ..., r_n\\}\\subset \\mathcal{P}$ and observe what they buy $\\mathcal{B}=\\{b_1, b_2, ..., b_n\\}\\subset \\mathcal{P}$. The question is how good the overlap is between the recommended and bought items $\\mathcal{R}\\cup\\mathcal{B}$ (true positives). The measure of the overlap is the count of items ($|\\mathcal{R}\\cup\\mathcal{B}|$) and the two measures precision ($\\mathbf{P}$) and recall ($\\mathbf{R}$) only differn in how we normalize this overlap.\n",
    "\n",
    "$$\\mathbf{P}=\\frac{|\\mathcal{R}\\cup\\mathcal{B}|}{|\\mathcal{R}|}$$\n",
    "\\\n",
    "$$\\mathbf{R}=\\frac{|\\mathcal{R}\\cup\\mathcal{B}|}{|\\mathcal{B}|}$$\n",
    "\n",
    "In an off-line setting, precision and recall needs to be evaluated without actually performing the experiment. A reasonable baseline for evaluating the quality of this these measures would be to see if it differs from what would be expected to get by pure chance. "
   ]
  },
  {
   "cell_type": "markdown",
   "metadata": {},
   "source": [
    "## Model 1 - Uniform Random Urn\n",
    "\n",
    "Let's start with the most simple case where the probability of buying any production is uniform, i.e. $P(b_i) = P(b_j) = p_b\\;\\;\\forall i,j$. \n",
    "\n",
    "To define notation, we assume that the setting is as follows: \n",
    "\n",
    "- The size of the set of products / categories is $|\\mathcal{P}|=\\mathtt{nb\\_exists}$\n",
    "- Of these products we recommend $|\\mathcal{R}|=\\mathtt{nb\\_reco}$\n",
    "- Of the products customers buy $|\\mathcal{B}|=\\mathtt{nb\\_bought}$\n",
    "- We test this on a number of customers/experiments $\\mathtt{nb\\_experiments}$.\n",
    "\n",
    "Obviously, if products are bought at random, then the expected size of the overlap is $E[|\\mathcal{R}\\cup\\mathcal{B}|] = p_b|\\mathcal{B}||\\mathcal{R}| = p_b*\\mathtt{nb\\_bought}*\\mathtt{nb\\_reco}$. Naturally $p_b = \\mathtt{nb\\_exists}^{-1}$. In this setting both $E[|\\mathcal{R}|]$ and $E[|\\mathcal{B}|]$ are fixed so we get:\n",
    "\n",
    "$$E[\\mathbf{P}]=\\frac{\\mathtt{nb\\_exist}^{-1}*\\mathtt{nb\\_bought}*\\mathtt{nb\\_reco}}{\\mathtt{nb\\_reco}} = \\frac{\\mathtt{nb\\_bought}}{\\mathtt{nb\\_exists}}$$\n",
    "\\\n",
    "$$E[\\mathbf{R}]=\\frac{\\mathtt{nb\\_exist}^{-1}*\\mathtt{nb\\_bought}*\\mathtt{nb\\_reco}}{\\mathtt{nb\\_bought}} = \\frac{\\mathtt{nb\\_reco}}{\\mathtt{nb\\_exists}}$$\n",
    "\n",
    "\n",
    "\n",
    "Note that we have:\n",
    "$$\\frac{E[\\mathbf{P}]}{\\mathtt{nb\\_bought}} = \\frac{E[\\mathbf{R}]}{\\mathtt{nb\\_reco}}=p_b$$\n",
    "And that:\n",
    "$$E[\\mathbf{P}] = E[\\mathbf{R}]\\frac{\\mathtt{nb\\_bought}}{\\mathtt{nb\\_reco}}$$"
   ]
  },
  {
   "cell_type": "code",
   "execution_count": 120,
   "metadata": {},
   "outputs": [
    {
     "name": "stdout",
     "output_type": "stream",
     "text": [
      "[1] \"Precision is: 0.498933333333333 . Expeted value is: 0.5\"\n",
      "[1] \"Recall is: 0.29936 . Expected value is: 0.3\"\n"
     ]
    }
   ],
   "source": [
    "nb_exists      = 10\n",
    "nb_reco        = 3\n",
    "nb_bought      = 5  # assumed to be distinct categories\n",
    "nb_experiments = 10000\n",
    "\n",
    "# for each customer, pull products at random\n",
    "cat_bought = t(replicate(nb_experiments, sample.int(nb_exists, nb_bought, replace = FALSE)))\n",
    "\n",
    "# assume that the products have been ordered so that they are indexed in the \n",
    "# order we recommend, however we only recommended the top nb_reco items.\n",
    "tp = apply(cat_bought, 1, FUN = function(x) {sum(x <= nb_reco)})\n",
    "\n",
    "precision = sum(tp) / (nb_reco   * nb_experiments)\n",
    "recall    = sum(tp) / (nb_bought * nb_experiments)\n",
    "\n",
    "print(paste(\"Precision is:\", precision, \". Expeted value is:\", nb_bought/nb_exists))\n",
    "print(paste(\"Recall is:\", recall, \". Expected value is:\", nb_reco/nb_exists))"
   ]
  },
  {
   "cell_type": "markdown",
   "metadata": {},
   "source": [
    "## Model 2 - Unbalanced urn\n",
    "\n",
    "If the probability of buying different items is not uniform then the above approximation does not hold. If the experiment is large enough and sampled appropriately (no biases) then the unconditional expectations are a good approximation of the expectation (i.e. we can use turnover as a proxy for the probabilities).\n",
    "\n",
    "In this case we keep the number of bought items $nb\\_bought$ fixed, but also only want to count items only once (not counting multiple purchases of the same item). This is non-trivial, but implemented in the R package BiasedUrn. We assume no structure for multiple purchases (only what is dictated by random). This means we will keep drawing from from the urn with the given probability vector until we have $nr\\_bought$ unique items purchased, not counting any repeat ransactions - i.e. it is more likely that we will see unpopular items (as measured per turnover) being sold than if we draw random transactions without conditioning on what the customer has previously bought.\n"
   ]
  },
  {
   "cell_type": "code",
   "execution_count": 113,
   "metadata": {},
   "outputs": [
    {
     "data": {
      "text/html": [
       "<table>\n",
       "<caption>A data.frame: 10 × 3</caption>\n",
       "<thead>\n",
       "\t<tr><th scope=col>item</th><th scope=col>observed</th><th scope=col>biased_odds</th></tr>\n",
       "\t<tr><th scope=col>&lt;int&gt;</th><th scope=col>&lt;dbl&gt;</th><th scope=col>&lt;dbl&gt;</th></tr>\n",
       "</thead>\n",
       "<tbody>\n",
       "\t<tr><td> 1</td><td>0.19804</td><td>0.400</td></tr>\n",
       "\t<tr><td> 2</td><td>0.19452</td><td>0.250</td></tr>\n",
       "\t<tr><td> 3</td><td>0.18622</td><td>0.170</td></tr>\n",
       "\t<tr><td> 4</td><td>0.16212</td><td>0.090</td></tr>\n",
       "\t<tr><td> 5</td><td>0.08448</td><td>0.030</td></tr>\n",
       "\t<tr><td> 6</td><td>0.05802</td><td>0.020</td></tr>\n",
       "\t<tr><td> 7</td><td>0.04254</td><td>0.015</td></tr>\n",
       "\t<tr><td> 8</td><td>0.03202</td><td>0.011</td></tr>\n",
       "\t<tr><td> 9</td><td>0.02948</td><td>0.010</td></tr>\n",
       "\t<tr><td>10</td><td>0.01256</td><td>0.004</td></tr>\n",
       "</tbody>\n",
       "</table>\n"
      ],
      "text/latex": [
       "A data.frame: 10 × 3\n",
       "\\begin{tabular}{lll}\n",
       " item & observed & biased\\_odds\\\\\n",
       " <int> & <dbl> & <dbl>\\\\\n",
       "\\hline\n",
       "\t  1 & 0.19804 & 0.400\\\\\n",
       "\t  2 & 0.19452 & 0.250\\\\\n",
       "\t  3 & 0.18622 & 0.170\\\\\n",
       "\t  4 & 0.16212 & 0.090\\\\\n",
       "\t  5 & 0.08448 & 0.030\\\\\n",
       "\t  6 & 0.05802 & 0.020\\\\\n",
       "\t  7 & 0.04254 & 0.015\\\\\n",
       "\t  8 & 0.03202 & 0.011\\\\\n",
       "\t  9 & 0.02948 & 0.010\\\\\n",
       "\t 10 & 0.01256 & 0.004\\\\\n",
       "\\end{tabular}\n"
      ],
      "text/markdown": [
       "\n",
       "A data.frame: 10 × 3\n",
       "\n",
       "| item &lt;int&gt; | observed &lt;dbl&gt; | biased_odds &lt;dbl&gt; |\n",
       "|---|---|---|\n",
       "|  1 | 0.19804 | 0.400 |\n",
       "|  2 | 0.19452 | 0.250 |\n",
       "|  3 | 0.18622 | 0.170 |\n",
       "|  4 | 0.16212 | 0.090 |\n",
       "|  5 | 0.08448 | 0.030 |\n",
       "|  6 | 0.05802 | 0.020 |\n",
       "|  7 | 0.04254 | 0.015 |\n",
       "|  8 | 0.03202 | 0.011 |\n",
       "|  9 | 0.02948 | 0.010 |\n",
       "| 10 | 0.01256 | 0.004 |\n",
       "\n"
      ],
      "text/plain": [
       "   item observed biased_odds\n",
       "1   1   0.19804  0.400      \n",
       "2   2   0.19452  0.250      \n",
       "3   3   0.18622  0.170      \n",
       "4   4   0.16212  0.090      \n",
       "5   5   0.08448  0.030      \n",
       "6   6   0.05802  0.020      \n",
       "7   7   0.04254  0.015      \n",
       "8   8   0.03202  0.011      \n",
       "9   9   0.02948  0.010      \n",
       "10 10   0.01256  0.004      "
      ]
     },
     "metadata": {},
     "output_type": "display_data"
    }
   ],
   "source": [
    "#' using the multivariate Wallenius non-cental hypergeometric distribution \n",
    "#' we can require that the categories are distinct! This naturally skews\n",
    "#' the density of the (distinct) categories, but that is just a mathematical\n",
    "#' result... there will be more purchases in the more popular categories(!) \n",
    "#' making the volumes normal in turnover.\n",
    "library(BiasedUrn) \n",
    "\n",
    "nb_exists      = 10\n",
    "nb_reco        = 3  # assumed to be 1:nb_reco\n",
    "nb_bought      = 5  # assumed to be distinct categories\n",
    "nb_experiments = 10000\n",
    "\n",
    "\n",
    "biased_odds = c(0.4, 0.25, 0.17, 0.09, 0.03, 0.02, 0.015, 0.011, 0.01, 0.004)\n",
    "unbiased_odds = rep(1/nb_exists, nb_exists)\n",
    "\n",
    "draws = t(rMWNCHypergeo(nb_experiments, \n",
    "                        m = rep(1, nb_exists), \n",
    "                        n = nb_bought, \n",
    "                        odds = biased_odds))\n",
    "#\n",
    "# draws: is a matrix (size: nb_experiments x nb_exists) with an indicator 1 if\n",
    "#        the customer buys a specific product or not. \n",
    "#\n",
    "#        By summing the columns of draws we get the number of purachses of this \n",
    "#        item / in this category\n",
    "#\n",
    "#\n",
    "# NB: The number is actually the number of purchased items in each category, \n",
    "#     but we limit the number of purchases to be maximum 1, so multiple \n",
    "#     purchases of one item is not inflated.\n",
    "#\n",
    "(df = data.frame(item = 1:nb_exists, \n",
    "                 observed = apply(draws, 2, sum) / sum(apply(draws, 2, sum)), \n",
    "                 biased_odds = biased_odds))\n"
   ]
  },
  {
   "cell_type": "code",
   "execution_count": 111,
   "metadata": {},
   "outputs": [
    {
     "data": {
      "image/png": "[encoded data removed]",
      "text/plain": [
       "plot without title"
      ]
     },
     "metadata": {
      "image/png": {
       "height": 420,
       "width": 420
      },
      "text/plain": {
       "height": 420,
       "width": 420
      }
     },
     "output_type": "display_data"
    }
   ],
   "source": [
    "plot(df$item, df$biased_odds, type = 'l')\n",
    "points(df$item, df$observed, col = \"blue\")"
   ]
  },
  {
   "cell_type": "markdown",
   "metadata": {},
   "source": [
    "Note that the observed probabilities do not exceed $1/nb\\_bought$ which makes sense!"
   ]
  },
  {
   "cell_type": "code",
   "execution_count": 112,
   "metadata": {},
   "outputs": [
    {
     "data": {
      "text/html": [
       "0.965066666666667"
      ],
      "text/latex": [
       "0.965066666666667"
      ],
      "text/markdown": [
       "0.965066666666667"
      ],
      "text/plain": [
       "[1] 0.9650667"
      ]
     },
     "metadata": {},
     "output_type": "display_data"
    },
    {
     "data": {
      "text/html": [
       "0.57904"
      ],
      "text/latex": [
       "0.57904"
      ],
      "text/markdown": [
       "0.57904"
      ],
      "text/plain": [
       "[1] 0.57904"
      ]
     },
     "metadata": {},
     "output_type": "display_data"
    }
   ],
   "source": [
    "# for each customer, count the number of true positives \n",
    "# (transactions at position between 1 and nb_reco)\n",
    "tp = apply(draws, 1, FUN = function(x) {sum(x[1:nb_reco])})\n",
    "\n",
    "\n",
    "(precision = sum(tp) / (nb_reco   * nb_experiments))\n",
    "(recall    = sum(tp) / (nb_bought * nb_experiments))\n",
    "\n",
    "\n",
    "# recall    = sum until number of recommendations of the vector apply(draws, 2, sum) / sum(apply(draws, 2, sum))\n",
    "# precision = recall * nb_bought/nb_reco\n",
    "\n"
   ]
  },
  {
   "cell_type": "markdown",
   "metadata": {},
   "source": [
    "It is now interesting to remember the value of expected recall we have for the unbiased situation:\n",
    "\n",
    "$$E[\\mathbf{R}]=\\frac{\\mathtt{nb\\_reco}}{\\mathtt{nb\\_exists}} = \\mathtt{nb\\_reco}*p_b = \\sum_{i=1}^{\\mathtt{nb\\_reco}}p_b$$\n",
    "\n",
    "This last specification can potentially be generalize by using the conditional probabilities of seeing a transation of an item.\n",
    "\n",
    "to our setting and we see that it holds true:"
   ]
  },
  {
   "cell_type": "code",
   "execution_count": 89,
   "metadata": {},
   "outputs": [
    {
     "data": {
      "text/html": [
       "0.5809"
      ],
      "text/latex": [
       "0.5809"
      ],
      "text/markdown": [
       "0.5809"
      ],
      "text/plain": [
       "[1] 0.5809"
      ]
     },
     "metadata": {},
     "output_type": "display_data"
    }
   ],
   "source": [
    "sum(df$observed[1:nb_reco])"
   ]
  },
  {
   "cell_type": "markdown",
   "metadata": {},
   "source": [
    "We also see that the relationship between expected precision and expected recall still holds:\n",
    "$$E[\\mathbf{P}] = E[\\mathbf{R}]\\frac{\\mathtt{nb\\_bought}}{\\mathtt{nb\\_reco}}$$"
   ]
  },
  {
   "cell_type": "code",
   "execution_count": 90,
   "metadata": {},
   "outputs": [
    {
     "data": {
      "text/html": [
       "0.968166666666667"
      ],
      "text/latex": [
       "0.968166666666667"
      ],
      "text/markdown": [
       "0.968166666666667"
      ],
      "text/plain": [
       "[1] 0.9681667"
      ]
     },
     "metadata": {},
     "output_type": "display_data"
    }
   ],
   "source": [
    "sum(df$observed[1:nb_reco]) * nb_bought / nb_reco"
   ]
  },
  {
   "cell_type": "code",
   "execution_count": null,
   "metadata": {},
   "outputs": [],
   "source": []
  },
  {
   "cell_type": "code",
   "execution_count": null,
   "metadata": {},
   "outputs": [],
   "source": []
  },
  {
   "cell_type": "markdown",
   "metadata": {},
   "source": [
    "## Corollory I\n",
    "It's interesting to note that in both cases (bias and unbiased urn) we find that:\n",
    "\n",
    "$$\\frac{E[\\mathbf{P}]}{E[\\mathbf{R}]} = \\frac{\\mathtt{nb\\_bought}}{\\mathtt{nb\\_reco}}$$\n",
    "\n",
    "This is an interestig relationship to rember when seeing differences in the ratio of precision to recall over time or between markets. A higher precision-to-recall ratio with a fixed number of recommendations could be a result of higher number of distinct categories being bought."
   ]
  },
  {
   "cell_type": "markdown",
   "metadata": {},
   "source": [
    "## Corollory II\n",
    "For the biased urn case, we find that we can define an equivalent measure to $p_b$ using the same relationships as for the unbiased urn.\n",
    "\n",
    "$$\\frac{E[\\mathbf{R}]}{\\mathtt{nb\\_reco}}= \\frac{1}{\\mathtt{nb\\_reco}}\\sum_{i=1}^{\\mathtt{nb\\_reco}}p_b^i$$\n",
    "\n",
    "In this case it's simply the average probability of seeing a transaction in one of the recommended products."
   ]
  },
  {
   "cell_type": "code",
   "execution_count": 121,
   "metadata": {},
   "outputs": [
    {
     "data": {
      "text/html": [
       "0.192926666666667"
      ],
      "text/latex": [
       "0.192926666666667"
      ],
      "text/markdown": [
       "0.192926666666667"
      ],
      "text/plain": [
       "[1] 0.1929267"
      ]
     },
     "metadata": {},
     "output_type": "display_data"
    }
   ],
   "source": [
    "sum((df$observed[1:nb_reco])[1:nb_reco]) / nb_reco"
   ]
  },
  {
   "cell_type": "markdown",
   "metadata": {},
   "source": [
    "We see that if we define $p^*$ as the relevant average probability:\n",
    "\n",
    "$$E[\\mathbf{P}] = \\mathtt{nb\\_bought} * p^*$$\n",
    "\\\n",
    "$$E[\\mathbf{R}] = \\mathtt{nb\\_reco} * p^*$$\n",
    "\n",
    "- Then it is easy to increase recall by incresing simply increasing the number of recommendations. This has no impact on precision. \n",
    "- Increasing the precision is only possible by increasing the number of transactions. This has no impact on recall."
   ]
  },
  {
   "cell_type": "code",
   "execution_count": null,
   "metadata": {},
   "outputs": [],
   "source": []
  }
 ],
 "metadata": {
  "kernelspec": {
   "display_name": "R 3.6.2",
   "language": "R",
   "name": "ir362"
  },
  "language_info": {
   "codemirror_mode": "r",
   "file_extension": ".r",
   "mimetype": "text/x-r-source",
   "name": "R",
   "pygments_lexer": "r",
   "version": "3.6.2"
  }
 },
 "nbformat": 4,
 "nbformat_minor": 4
}
